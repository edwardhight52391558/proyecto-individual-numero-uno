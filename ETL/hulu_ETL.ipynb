{
 "cells": [
  {
   "cell_type": "code",
   "execution_count": 1,
   "metadata": {},
   "outputs": [],
   "source": [
    "# Carga de librerias.\n",
    "\n",
    "import pandas as pd\n",
    "import datetime"
   ]
  },
  {
   "cell_type": "code",
   "execution_count": 2,
   "metadata": {},
   "outputs": [],
   "source": [
    "# Lectura del archivo '.csv'.\n",
    "\n",
    "df = pd.read_csv('hulu_titles.csv')"
   ]
  },
  {
   "cell_type": "code",
   "execution_count": 3,
   "metadata": {},
   "outputs": [
    {
     "name": "stdout",
     "output_type": "stream",
     "text": [
      "<class 'pandas.core.frame.DataFrame'>\n",
      "RangeIndex: 3073 entries, 0 to 3072\n",
      "Data columns (total 12 columns):\n",
      " #   Column        Non-Null Count  Dtype  \n",
      "---  ------        --------------  -----  \n",
      " 0   show_id       3073 non-null   object \n",
      " 1   type          3073 non-null   object \n",
      " 2   title         3073 non-null   object \n",
      " 3   director      3 non-null      object \n",
      " 4   cast          0 non-null      float64\n",
      " 5   country       1620 non-null   object \n",
      " 6   date_added    3045 non-null   object \n",
      " 7   release_year  3073 non-null   int64  \n",
      " 8   rating        2553 non-null   object \n",
      " 9   duration      2594 non-null   object \n",
      " 10  listed_in     3073 non-null   object \n",
      " 11  description   3069 non-null   object \n",
      "dtypes: float64(1), int64(1), object(10)\n",
      "memory usage: 288.2+ KB\n",
      "None\n"
     ]
    }
   ],
   "source": [
    "# Visualizar la informacion del DataFrame.\n",
    "\n",
    "print(df.info())"
   ]
  },
  {
   "cell_type": "code",
   "execution_count": 4,
   "metadata": {},
   "outputs": [],
   "source": [
    "# Reemplazar datos nulos por la cadena 'sin dato'.\n",
    "\n",
    "df.fillna(\"sin dato\", inplace= True)"
   ]
  },
  {
   "cell_type": "code",
   "execution_count": 5,
   "metadata": {},
   "outputs": [],
   "source": [
    "# Reemplazar datos nulos del campo 'rating' por la cadena 'G'.\n",
    "\n",
    "for x in df.index:\n",
    "  if df.loc[x, \"rating\"] == 'sin dato':\n",
    "    df.loc[x, \"rating\"] = 'G'"
   ]
  },
  {
   "cell_type": "code",
   "execution_count": 6,
   "metadata": {},
   "outputs": [],
   "source": [
    "# Dividir la columna 'duration', en cantidad y unidad, y crear las columnas 'duration_int' y 'duration_type'.\n",
    "\n",
    "df[['duration_int','duration_type']] = df.duration.str.split(' ', expand = True)"
   ]
  },
  {
   "cell_type": "code",
   "execution_count": 7,
   "metadata": {},
   "outputs": [],
   "source": [
    "# Eliminar la columna 'duration'.\n",
    "\n",
    "df.drop(columns= 'duration', inplace= True)"
   ]
  },
  {
   "cell_type": "code",
   "execution_count": 8,
   "metadata": {},
   "outputs": [],
   "source": [
    "# Formatear la fecha de la columna 'date_added'.\n",
    "\n",
    "for x in df.index:\n",
    "  if df.loc[x, \"date_added\"] != 'sin dato':\n",
    "    df.loc[x, \"date_added\"] = df.loc[x, \"date_added\"].strip()\n",
    "    df.loc[x, \"date_added\"] = datetime.datetime.strptime(df.loc[x, \"date_added\"], \"%B %d, %Y\").strftime(\"%Y-%m-%d\")"
   ]
  },
  {
   "cell_type": "code",
   "execution_count": 9,
   "metadata": {},
   "outputs": [],
   "source": [
    "# Generar campo 'id' y colocarlo como indice.\n",
    "\n",
    "df['id'] = ['h' for i in range(3073)] + df['show_id'].values\n",
    "df = df.set_index('id')"
   ]
  },
  {
   "cell_type": "code",
   "execution_count": 10,
   "metadata": {},
   "outputs": [],
   "source": [
    "# Eliminar columna 'show_id'.\n",
    "\n",
    "df.drop(columns= 'show_id', inplace= True)"
   ]
  },
  {
   "cell_type": "code",
   "execution_count": 11,
   "metadata": {},
   "outputs": [],
   "source": [
    "for x in df.index:\n",
    "  if df.loc[x, \"duration_type\"] == 'Seasons':\n",
    "    df.loc[x, \"duration_type\"] = 'season'"
   ]
  },
  {
   "cell_type": "code",
   "execution_count": 12,
   "metadata": {},
   "outputs": [],
   "source": [
    "for x in df.index:\n",
    "  if df.loc[x, \"duration_type\"] == 'dato':\n",
    "    df.loc[x, \"duration_type\"] = 'sin dato'"
   ]
  },
  {
   "cell_type": "code",
   "execution_count": 14,
   "metadata": {},
   "outputs": [],
   "source": [
    "for x in df.index:\n",
    "  if df.loc[x, \"duration_int\"] == 'sin':\n",
    "    df.loc[x, \"duration_int\"] = 0"
   ]
  },
  {
   "cell_type": "code",
   "execution_count": 14,
   "metadata": {},
   "outputs": [],
   "source": [
    "# Colocar los campos de texto en minusculas.\n",
    "\n",
    "df['type'] = df['type'].str.lower()\n",
    "df['title'] = df['title'].str.lower()\n",
    "df['director'] = df['director'].str.lower()\n",
    "df['cast'] = df['cast'].str.lower()\n",
    "df['country'] = df['country'].str.lower()\n",
    "df['listed_in'] = df['listed_in'].str.lower()\n",
    "df['description'] = df['description'].str.lower()\n",
    "df['rating'] = df['rating'].str.lower()\n",
    "df['duration_type'] = df['duration_type'].str.lower()"
   ]
  },
  {
   "cell_type": "code",
   "execution_count": 16,
   "metadata": {},
   "outputs": [],
   "source": [
    "for x in df.index:\n",
    "  if df.loc[x, \"duration_int\"] == 'sin dato':\n",
    "    df.loc[x, \"duration_int\"] = 0"
   ]
  },
  {
   "cell_type": "code",
   "execution_count": 17,
   "metadata": {},
   "outputs": [],
   "source": [
    "df['duration_int'] = df['duration_int'].astype('int64')"
   ]
  },
  {
   "cell_type": "code",
   "execution_count": 15,
   "metadata": {},
   "outputs": [],
   "source": [
    "df.to_csv('hulu_titles_ETL.csv')"
   ]
  }
 ],
 "metadata": {
  "kernelspec": {
   "display_name": "Python 3",
   "language": "python",
   "name": "python3"
  },
  "language_info": {
   "codemirror_mode": {
    "name": "ipython",
    "version": 3
   },
   "file_extension": ".py",
   "mimetype": "text/x-python",
   "name": "python",
   "nbconvert_exporter": "python",
   "pygments_lexer": "ipython3",
   "version": "3.11.1"
  },
  "orig_nbformat": 4
 },
 "nbformat": 4,
 "nbformat_minor": 2
}
