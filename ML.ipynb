{
 "cells": [
  {
   "cell_type": "code",
   "execution_count": 5,
   "metadata": {},
   "outputs": [],
   "source": [
    "import pandas as pd"
   ]
  },
  {
   "cell_type": "code",
   "execution_count": 6,
   "metadata": {},
   "outputs": [],
   "source": [
    "platform = pd.read_csv('platform.csv')"
   ]
  },
  {
   "cell_type": "code",
   "execution_count": 7,
   "metadata": {},
   "outputs": [],
   "source": [
    "platform_movies = platform[platform['type']=='movie']"
   ]
  },
  {
   "cell_type": "code",
   "execution_count": 8,
   "metadata": {},
   "outputs": [],
   "source": [
    "platform_movies = platform_movies.sort_values(['id'])\n"
   ]
  },
  {
   "cell_type": "code",
   "execution_count": 9,
   "metadata": {},
   "outputs": [],
   "source": [
    "rating = pd.read_csv('rating_movies.csv')\n",
    "rating = rating.drop(['Unnamed: 0'], axis=1)"
   ]
  },
  {
   "cell_type": "code",
   "execution_count": 10,
   "metadata": {},
   "outputs": [],
   "source": [
    "rating = rating.sort_values(['movieId'])\n"
   ]
  },
  {
   "cell_type": "code",
   "execution_count": 11,
   "metadata": {},
   "outputs": [],
   "source": [
    "platform_movies['index'] = [i for i in range(16481)]\n"
   ]
  },
  {
   "cell_type": "code",
   "execution_count": 12,
   "metadata": {},
   "outputs": [],
   "source": [
    "rating['index'] = [i for i in range(16481)]"
   ]
  },
  {
   "cell_type": "code",
   "execution_count": 13,
   "metadata": {},
   "outputs": [],
   "source": [
    "rating = rating.set_index(['index'])"
   ]
  },
  {
   "cell_type": "code",
   "execution_count": 14,
   "metadata": {},
   "outputs": [
    {
     "data": {
      "text/html": [
       "<div>\n",
       "<style scoped>\n",
       "    .dataframe tbody tr th:only-of-type {\n",
       "        vertical-align: middle;\n",
       "    }\n",
       "\n",
       "    .dataframe tbody tr th {\n",
       "        vertical-align: top;\n",
       "    }\n",
       "\n",
       "    .dataframe thead th {\n",
       "        text-align: right;\n",
       "    }\n",
       "</style>\n",
       "<table border=\"1\" class=\"dataframe\">\n",
       "  <thead>\n",
       "    <tr style=\"text-align: right;\">\n",
       "      <th></th>\n",
       "      <th>movieId</th>\n",
       "      <th>rating</th>\n",
       "    </tr>\n",
       "    <tr>\n",
       "      <th>index</th>\n",
       "      <th></th>\n",
       "      <th></th>\n",
       "    </tr>\n",
       "  </thead>\n",
       "  <tbody>\n",
       "    <tr>\n",
       "      <th>0</th>\n",
       "      <td>as1</td>\n",
       "      <td>3.467131</td>\n",
       "    </tr>\n",
       "    <tr>\n",
       "      <th>1</th>\n",
       "      <td>as10</td>\n",
       "      <td>3.439571</td>\n",
       "    </tr>\n",
       "    <tr>\n",
       "      <th>2</th>\n",
       "      <td>as100</td>\n",
       "      <td>3.609302</td>\n",
       "    </tr>\n",
       "  </tbody>\n",
       "</table>\n",
       "</div>"
      ],
      "text/plain": [
       "      movieId    rating\n",
       "index                  \n",
       "0         as1  3.467131\n",
       "1        as10  3.439571\n",
       "2       as100  3.609302"
      ]
     },
     "execution_count": 14,
     "metadata": {},
     "output_type": "execute_result"
    }
   ],
   "source": [
    "rating.head(3)"
   ]
  },
  {
   "cell_type": "code",
   "execution_count": 15,
   "metadata": {},
   "outputs": [],
   "source": [
    "platform_movies = platform_movies.set_index(['index'])"
   ]
  },
  {
   "cell_type": "code",
   "execution_count": 16,
   "metadata": {},
   "outputs": [],
   "source": [
    "platform_movies = platform_movies.rename(columns={'rating':'rating_movies'})"
   ]
  },
  {
   "cell_type": "code",
   "execution_count": 17,
   "metadata": {},
   "outputs": [
    {
     "data": {
      "text/html": [
       "<div>\n",
       "<style scoped>\n",
       "    .dataframe tbody tr th:only-of-type {\n",
       "        vertical-align: middle;\n",
       "    }\n",
       "\n",
       "    .dataframe tbody tr th {\n",
       "        vertical-align: top;\n",
       "    }\n",
       "\n",
       "    .dataframe thead th {\n",
       "        text-align: right;\n",
       "    }\n",
       "</style>\n",
       "<table border=\"1\" class=\"dataframe\">\n",
       "  <thead>\n",
       "    <tr style=\"text-align: right;\">\n",
       "      <th></th>\n",
       "      <th>id</th>\n",
       "      <th>type</th>\n",
       "      <th>title</th>\n",
       "      <th>director</th>\n",
       "      <th>cast</th>\n",
       "      <th>country</th>\n",
       "      <th>date_added</th>\n",
       "      <th>release_year</th>\n",
       "      <th>rating_movies</th>\n",
       "      <th>listed_in</th>\n",
       "      <th>description</th>\n",
       "      <th>duration_int</th>\n",
       "      <th>duration_type</th>\n",
       "      <th>platform</th>\n",
       "    </tr>\n",
       "    <tr>\n",
       "      <th>index</th>\n",
       "      <th></th>\n",
       "      <th></th>\n",
       "      <th></th>\n",
       "      <th></th>\n",
       "      <th></th>\n",
       "      <th></th>\n",
       "      <th></th>\n",
       "      <th></th>\n",
       "      <th></th>\n",
       "      <th></th>\n",
       "      <th></th>\n",
       "      <th></th>\n",
       "      <th></th>\n",
       "      <th></th>\n",
       "    </tr>\n",
       "  </thead>\n",
       "  <tbody>\n",
       "    <tr>\n",
       "      <th>0</th>\n",
       "      <td>as1</td>\n",
       "      <td>movie</td>\n",
       "      <td>the grand seduction</td>\n",
       "      <td>don mckellar</td>\n",
       "      <td>brendan gleeson, taylor kitsch, gordon pinsent</td>\n",
       "      <td>canada</td>\n",
       "      <td>2021-03-30</td>\n",
       "      <td>2014</td>\n",
       "      <td>g</td>\n",
       "      <td>comedy, drama</td>\n",
       "      <td>a small fishing village must procure a local d...</td>\n",
       "      <td>113</td>\n",
       "      <td>min</td>\n",
       "      <td>amazon</td>\n",
       "    </tr>\n",
       "    <tr>\n",
       "      <th>1</th>\n",
       "      <td>as10</td>\n",
       "      <td>movie</td>\n",
       "      <td>david's mother</td>\n",
       "      <td>robert allan ackerman</td>\n",
       "      <td>kirstie alley, sam waterston, stockard channing</td>\n",
       "      <td>united states</td>\n",
       "      <td>2021-04-01</td>\n",
       "      <td>1994</td>\n",
       "      <td>g</td>\n",
       "      <td>drama</td>\n",
       "      <td>sally goodson is a devoted mother to her autis...</td>\n",
       "      <td>92</td>\n",
       "      <td>min</td>\n",
       "      <td>amazon</td>\n",
       "    </tr>\n",
       "    <tr>\n",
       "      <th>2</th>\n",
       "      <td>as100</td>\n",
       "      <td>movie</td>\n",
       "      <td>wilder napalm</td>\n",
       "      <td>glenn gordon caron</td>\n",
       "      <td>debra winger, dennis quaid, arliss howard, m. ...</td>\n",
       "      <td>sin dato</td>\n",
       "      <td>sin dato</td>\n",
       "      <td>1993</td>\n",
       "      <td>pg-13</td>\n",
       "      <td>comedy, science fiction</td>\n",
       "      <td>two brothers with the secret power of starting...</td>\n",
       "      <td>109</td>\n",
       "      <td>min</td>\n",
       "      <td>amazon</td>\n",
       "    </tr>\n",
       "  </tbody>\n",
       "</table>\n",
       "</div>"
      ],
      "text/plain": [
       "          id   type                title               director  \\\n",
       "index                                                             \n",
       "0        as1  movie  the grand seduction           don mckellar   \n",
       "1       as10  movie       david's mother  robert allan ackerman   \n",
       "2      as100  movie        wilder napalm     glenn gordon caron   \n",
       "\n",
       "                                                    cast        country  \\\n",
       "index                                                                     \n",
       "0         brendan gleeson, taylor kitsch, gordon pinsent         canada   \n",
       "1        kirstie alley, sam waterston, stockard channing  united states   \n",
       "2      debra winger, dennis quaid, arliss howard, m. ...       sin dato   \n",
       "\n",
       "       date_added  release_year rating_movies                listed_in  \\\n",
       "index                                                                    \n",
       "0      2021-03-30          2014             g            comedy, drama   \n",
       "1      2021-04-01          1994             g                    drama   \n",
       "2        sin dato          1993         pg-13  comedy, science fiction   \n",
       "\n",
       "                                             description  duration_int  \\\n",
       "index                                                                    \n",
       "0      a small fishing village must procure a local d...           113   \n",
       "1      sally goodson is a devoted mother to her autis...            92   \n",
       "2      two brothers with the secret power of starting...           109   \n",
       "\n",
       "      duration_type platform  \n",
       "index                         \n",
       "0               min   amazon  \n",
       "1               min   amazon  \n",
       "2               min   amazon  "
      ]
     },
     "execution_count": 17,
     "metadata": {},
     "output_type": "execute_result"
    }
   ],
   "source": [
    "platform_movies.head(3)"
   ]
  },
  {
   "cell_type": "code",
   "execution_count": 18,
   "metadata": {},
   "outputs": [],
   "source": [
    "rating_movies = pd.concat([rating, platform_movies], axis= 1)"
   ]
  },
  {
   "cell_type": "code",
   "execution_count": 19,
   "metadata": {},
   "outputs": [],
   "source": [
    "rating_movies['indice'] = rating_movies.index"
   ]
  },
  {
   "cell_type": "code",
   "execution_count": 138,
   "metadata": {},
   "outputs": [
    {
     "data": {
      "text/html": [
       "<div>\n",
       "<style scoped>\n",
       "    .dataframe tbody tr th:only-of-type {\n",
       "        vertical-align: middle;\n",
       "    }\n",
       "\n",
       "    .dataframe tbody tr th {\n",
       "        vertical-align: top;\n",
       "    }\n",
       "\n",
       "    .dataframe thead th {\n",
       "        text-align: right;\n",
       "    }\n",
       "</style>\n",
       "<table border=\"1\" class=\"dataframe\">\n",
       "  <thead>\n",
       "    <tr style=\"text-align: right;\">\n",
       "      <th></th>\n",
       "      <th>movieId</th>\n",
       "      <th>rating</th>\n",
       "      <th>id</th>\n",
       "      <th>type</th>\n",
       "      <th>title</th>\n",
       "      <th>director</th>\n",
       "      <th>cast</th>\n",
       "      <th>country</th>\n",
       "      <th>date_added</th>\n",
       "      <th>release_year</th>\n",
       "      <th>rating_movies</th>\n",
       "      <th>listed_in</th>\n",
       "      <th>description</th>\n",
       "      <th>duration_int</th>\n",
       "      <th>duration_type</th>\n",
       "      <th>platform</th>\n",
       "      <th>indice</th>\n",
       "    </tr>\n",
       "    <tr>\n",
       "      <th>index</th>\n",
       "      <th></th>\n",
       "      <th></th>\n",
       "      <th></th>\n",
       "      <th></th>\n",
       "      <th></th>\n",
       "      <th></th>\n",
       "      <th></th>\n",
       "      <th></th>\n",
       "      <th></th>\n",
       "      <th></th>\n",
       "      <th></th>\n",
       "      <th></th>\n",
       "      <th></th>\n",
       "      <th></th>\n",
       "      <th></th>\n",
       "      <th></th>\n",
       "      <th></th>\n",
       "    </tr>\n",
       "  </thead>\n",
       "  <tbody>\n",
       "    <tr>\n",
       "      <th>0</th>\n",
       "      <td>as1</td>\n",
       "      <td>3.467131</td>\n",
       "      <td>as1</td>\n",
       "      <td>movie</td>\n",
       "      <td>the grand seduction</td>\n",
       "      <td>don mckellar</td>\n",
       "      <td>brendan gleeson, taylor kitsch, gordon pinsent</td>\n",
       "      <td>canada</td>\n",
       "      <td>2021-03-30</td>\n",
       "      <td>2014</td>\n",
       "      <td>g</td>\n",
       "      <td>comedy, drama</td>\n",
       "      <td>a small fishing village must procure a local d...</td>\n",
       "      <td>113</td>\n",
       "      <td>min</td>\n",
       "      <td>amazon</td>\n",
       "      <td>0</td>\n",
       "    </tr>\n",
       "    <tr>\n",
       "      <th>1</th>\n",
       "      <td>as10</td>\n",
       "      <td>3.439571</td>\n",
       "      <td>as10</td>\n",
       "      <td>movie</td>\n",
       "      <td>david's mother</td>\n",
       "      <td>robert allan ackerman</td>\n",
       "      <td>kirstie alley, sam waterston, stockard channing</td>\n",
       "      <td>united states</td>\n",
       "      <td>2021-04-01</td>\n",
       "      <td>1994</td>\n",
       "      <td>g</td>\n",
       "      <td>drama</td>\n",
       "      <td>sally goodson is a devoted mother to her autis...</td>\n",
       "      <td>92</td>\n",
       "      <td>min</td>\n",
       "      <td>amazon</td>\n",
       "      <td>1</td>\n",
       "    </tr>\n",
       "    <tr>\n",
       "      <th>2</th>\n",
       "      <td>as100</td>\n",
       "      <td>3.609302</td>\n",
       "      <td>as100</td>\n",
       "      <td>movie</td>\n",
       "      <td>wilder napalm</td>\n",
       "      <td>glenn gordon caron</td>\n",
       "      <td>debra winger, dennis quaid, arliss howard, m. ...</td>\n",
       "      <td>sin dato</td>\n",
       "      <td>sin dato</td>\n",
       "      <td>1993</td>\n",
       "      <td>pg-13</td>\n",
       "      <td>comedy, science fiction</td>\n",
       "      <td>two brothers with the secret power of starting...</td>\n",
       "      <td>109</td>\n",
       "      <td>min</td>\n",
       "      <td>amazon</td>\n",
       "      <td>2</td>\n",
       "    </tr>\n",
       "  </tbody>\n",
       "</table>\n",
       "</div>"
      ],
      "text/plain": [
       "      movieId    rating     id   type                title  \\\n",
       "index                                                        \n",
       "0         as1  3.467131    as1  movie  the grand seduction   \n",
       "1        as10  3.439571   as10  movie       david's mother   \n",
       "2       as100  3.609302  as100  movie        wilder napalm   \n",
       "\n",
       "                    director  \\\n",
       "index                          \n",
       "0               don mckellar   \n",
       "1      robert allan ackerman   \n",
       "2         glenn gordon caron   \n",
       "\n",
       "                                                    cast        country  \\\n",
       "index                                                                     \n",
       "0         brendan gleeson, taylor kitsch, gordon pinsent         canada   \n",
       "1        kirstie alley, sam waterston, stockard channing  united states   \n",
       "2      debra winger, dennis quaid, arliss howard, m. ...       sin dato   \n",
       "\n",
       "       date_added  release_year rating_movies                listed_in  \\\n",
       "index                                                                    \n",
       "0      2021-03-30          2014             g            comedy, drama   \n",
       "1      2021-04-01          1994             g                    drama   \n",
       "2        sin dato          1993         pg-13  comedy, science fiction   \n",
       "\n",
       "                                             description  duration_int  \\\n",
       "index                                                                    \n",
       "0      a small fishing village must procure a local d...           113   \n",
       "1      sally goodson is a devoted mother to her autis...            92   \n",
       "2      two brothers with the secret power of starting...           109   \n",
       "\n",
       "      duration_type platform  indice  \n",
       "index                                 \n",
       "0               min   amazon       0  \n",
       "1               min   amazon       1  \n",
       "2               min   amazon       2  "
      ]
     },
     "execution_count": 138,
     "metadata": {},
     "output_type": "execute_result"
    }
   ],
   "source": [
    "rating_movies.head(3)"
   ]
  },
  {
   "cell_type": "code",
   "execution_count": 100,
   "metadata": {},
   "outputs": [],
   "source": [
    "movies_ml = rating_movies[['indice','rating','release_year','platform','duration_int']]"
   ]
  },
  {
   "cell_type": "code",
   "execution_count": 104,
   "metadata": {},
   "outputs": [
    {
     "data": {
      "text/html": [
       "<div>\n",
       "<style scoped>\n",
       "    .dataframe tbody tr th:only-of-type {\n",
       "        vertical-align: middle;\n",
       "    }\n",
       "\n",
       "    .dataframe tbody tr th {\n",
       "        vertical-align: top;\n",
       "    }\n",
       "\n",
       "    .dataframe thead th {\n",
       "        text-align: right;\n",
       "    }\n",
       "</style>\n",
       "<table border=\"1\" class=\"dataframe\">\n",
       "  <thead>\n",
       "    <tr style=\"text-align: right;\">\n",
       "      <th></th>\n",
       "      <th>indice</th>\n",
       "      <th>rating</th>\n",
       "      <th>release_year</th>\n",
       "      <th>platform</th>\n",
       "      <th>duration_int</th>\n",
       "    </tr>\n",
       "    <tr>\n",
       "      <th>index</th>\n",
       "      <th></th>\n",
       "      <th></th>\n",
       "      <th></th>\n",
       "      <th></th>\n",
       "      <th></th>\n",
       "    </tr>\n",
       "  </thead>\n",
       "  <tbody>\n",
       "    <tr>\n",
       "      <th>0</th>\n",
       "      <td>0</td>\n",
       "      <td>3.467131</td>\n",
       "      <td>2014</td>\n",
       "      <td>0</td>\n",
       "      <td>113</td>\n",
       "    </tr>\n",
       "    <tr>\n",
       "      <th>1</th>\n",
       "      <td>1</td>\n",
       "      <td>3.439571</td>\n",
       "      <td>1994</td>\n",
       "      <td>0</td>\n",
       "      <td>92</td>\n",
       "    </tr>\n",
       "    <tr>\n",
       "      <th>2</th>\n",
       "      <td>2</td>\n",
       "      <td>3.609302</td>\n",
       "      <td>1993</td>\n",
       "      <td>0</td>\n",
       "      <td>109</td>\n",
       "    </tr>\n",
       "  </tbody>\n",
       "</table>\n",
       "</div>"
      ],
      "text/plain": [
       "       indice    rating  release_year  platform  duration_int\n",
       "index                                                        \n",
       "0           0  3.467131          2014         0           113\n",
       "1           1  3.439571          1994         0            92\n",
       "2           2  3.609302          1993         0           109"
      ]
     },
     "execution_count": 104,
     "metadata": {},
     "output_type": "execute_result"
    }
   ],
   "source": [
    "movies_ml.head(3)"
   ]
  },
  {
   "cell_type": "code",
   "execution_count": 103,
   "metadata": {},
   "outputs": [
    {
     "name": "stderr",
     "output_type": "stream",
     "text": [
      "C:\\Users\\Edwar\\AppData\\Local\\Temp\\ipykernel_11456\\980910987.py:2: SettingWithCopyWarning: \n",
      "A value is trying to be set on a copy of a slice from a DataFrame.\n",
      "Try using .loc[row_indexer,col_indexer] = value instead\n",
      "\n",
      "See the caveats in the documentation: https://pandas.pydata.org/pandas-docs/stable/user_guide/indexing.html#returning-a-view-versus-a-copy\n",
      "  movies_ml['platform'] = movies_ml['platform'].map(d)\n"
     ]
    }
   ],
   "source": [
    "d = {'amazon': 0, 'disney': 1, 'netflix': 2, 'hulu': 3}\n",
    "movies_ml['platform'] = movies_ml['platform'].map(d)"
   ]
  },
  {
   "cell_type": "code",
   "execution_count": 139,
   "metadata": {},
   "outputs": [],
   "source": [
    "rating_movies.to_csv('rating_movies.csv')"
   ]
  },
  {
   "cell_type": "code",
   "execution_count": 24,
   "metadata": {},
   "outputs": [],
   "source": [
    "import matplotlib.pyplot as plt"
   ]
  },
  {
   "cell_type": "code",
   "execution_count": 25,
   "metadata": {},
   "outputs": [],
   "source": [
    "features = ['rating','release_year','platform','duration_int']"
   ]
  },
  {
   "cell_type": "code",
   "execution_count": 144,
   "metadata": {},
   "outputs": [],
   "source": [
    "r_movies = pd.read_csv('rating_movies.csv')\n",
    "from sklearn.neighbors import KNeighborsClassifier"
   ]
  },
  {
   "cell_type": "code",
   "execution_count": 198,
   "metadata": {},
   "outputs": [],
   "source": [
    "def get_recomendacion_movies(rating: float, duracion: int, year: int, platform: str):\n",
    "    if platform=='amazon': plataforma = 1\n",
    "    if platform=='netflix': plataforma = 4\n",
    "    if platform=='hulu': plataforma = 3\n",
    "    if platform=='disney': plataforma = 2\n",
    "    year = year - 1930\n",
    "    X = r_movies[['duration_int','rating','release_year','platform']]\n",
    "    y = r_movies['indice']\n",
    "\n",
    "    peliculas = []\n",
    "    for k in [1,50,100,200,3000]:\n",
    "        knn = KNeighborsClassifier(n_neighbors=k)\n",
    "\n",
    "        knn.fit(X, y)\n",
    "\n",
    "        new_point = [(duracion, rating, year,plataforma)]\n",
    "\n",
    "        prediction = knn.predict(new_point)\n",
    "\n",
    "        peliculas.append(r_movies.loc[*prediction, 'title'])\n",
    "\n",
    "    return peliculas"
   ]
  },
  {
   "cell_type": "code",
   "execution_count": 200,
   "metadata": {},
   "outputs": [
    {
     "name": "stderr",
     "output_type": "stream",
     "text": [
      "c:\\Users\\Edwar\\AppData\\Local\\Programs\\Python\\Python311\\Lib\\site-packages\\sklearn\\base.py:439: UserWarning: X does not have valid feature names, but KNeighborsClassifier was fitted with feature names\n",
      "  warnings.warn(\n",
      "c:\\Users\\Edwar\\AppData\\Local\\Programs\\Python\\Python311\\Lib\\site-packages\\sklearn\\base.py:439: UserWarning: X does not have valid feature names, but KNeighborsClassifier was fitted with feature names\n",
      "  warnings.warn(\n",
      "c:\\Users\\Edwar\\AppData\\Local\\Programs\\Python\\Python311\\Lib\\site-packages\\sklearn\\base.py:439: UserWarning: X does not have valid feature names, but KNeighborsClassifier was fitted with feature names\n",
      "  warnings.warn(\n",
      "c:\\Users\\Edwar\\AppData\\Local\\Programs\\Python\\Python311\\Lib\\site-packages\\sklearn\\base.py:439: UserWarning: X does not have valid feature names, but KNeighborsClassifier was fitted with feature names\n",
      "  warnings.warn(\n",
      "c:\\Users\\Edwar\\AppData\\Local\\Programs\\Python\\Python311\\Lib\\site-packages\\sklearn\\base.py:439: UserWarning: X does not have valid feature names, but KNeighborsClassifier was fitted with feature names\n",
      "  warnings.warn(\n"
     ]
    },
    {
     "data": {
      "text/plain": [
       "['dark city beneath the beat',\n",
       " 'jay mohr: american treasure',\n",
       " 'relentless',\n",
       " 'whoop!',\n",
       " 'simple gifts: the chamber music society at shaker village']"
      ]
     },
     "execution_count": 200,
     "metadata": {},
     "output_type": "execute_result"
    }
   ],
   "source": [
    "get_recomendacion_movies(3.4,65,2020,'hulu')"
   ]
  },
  {
   "cell_type": "code",
   "execution_count": 176,
   "metadata": {},
   "outputs": [],
   "source": [
    "\n",
    "d = {'amazon':1,'disney':2,'hulu':3,'netflix':4}\n",
    "r_movies['platform'] = r_movies['platform'].map(d)"
   ]
  },
  {
   "cell_type": "code",
   "execution_count": 201,
   "metadata": {},
   "outputs": [],
   "source": [
    "r_movies.to_csv('rating_movies.csv')"
   ]
  },
  {
   "cell_type": "code",
   "execution_count": 194,
   "metadata": {},
   "outputs": [],
   "source": [
    "r_movies['release_year'] = r_movies['release_year']-1930"
   ]
  },
  {
   "cell_type": "code",
   "execution_count": 195,
   "metadata": {},
   "outputs": [
    {
     "data": {
      "text/html": [
       "<div>\n",
       "<style scoped>\n",
       "    .dataframe tbody tr th:only-of-type {\n",
       "        vertical-align: middle;\n",
       "    }\n",
       "\n",
       "    .dataframe tbody tr th {\n",
       "        vertical-align: top;\n",
       "    }\n",
       "\n",
       "    .dataframe thead th {\n",
       "        text-align: right;\n",
       "    }\n",
       "</style>\n",
       "<table border=\"1\" class=\"dataframe\">\n",
       "  <thead>\n",
       "    <tr style=\"text-align: right;\">\n",
       "      <th></th>\n",
       "      <th>index</th>\n",
       "      <th>movieId</th>\n",
       "      <th>rating</th>\n",
       "      <th>id</th>\n",
       "      <th>type</th>\n",
       "      <th>title</th>\n",
       "      <th>director</th>\n",
       "      <th>cast</th>\n",
       "      <th>country</th>\n",
       "      <th>date_added</th>\n",
       "      <th>release_year</th>\n",
       "      <th>rating_movies</th>\n",
       "      <th>listed_in</th>\n",
       "      <th>description</th>\n",
       "      <th>duration_int</th>\n",
       "      <th>duration_type</th>\n",
       "      <th>platform</th>\n",
       "      <th>indice</th>\n",
       "    </tr>\n",
       "  </thead>\n",
       "  <tbody>\n",
       "    <tr>\n",
       "      <th>0</th>\n",
       "      <td>0</td>\n",
       "      <td>as1</td>\n",
       "      <td>3.467131</td>\n",
       "      <td>as1</td>\n",
       "      <td>movie</td>\n",
       "      <td>the grand seduction</td>\n",
       "      <td>don mckellar</td>\n",
       "      <td>brendan gleeson, taylor kitsch, gordon pinsent</td>\n",
       "      <td>canada</td>\n",
       "      <td>2021-03-30</td>\n",
       "      <td>84</td>\n",
       "      <td>g</td>\n",
       "      <td>comedy, drama</td>\n",
       "      <td>a small fishing village must procure a local d...</td>\n",
       "      <td>113</td>\n",
       "      <td>min</td>\n",
       "      <td>1</td>\n",
       "      <td>0</td>\n",
       "    </tr>\n",
       "    <tr>\n",
       "      <th>1</th>\n",
       "      <td>1</td>\n",
       "      <td>as10</td>\n",
       "      <td>3.439571</td>\n",
       "      <td>as10</td>\n",
       "      <td>movie</td>\n",
       "      <td>david's mother</td>\n",
       "      <td>robert allan ackerman</td>\n",
       "      <td>kirstie alley, sam waterston, stockard channing</td>\n",
       "      <td>united states</td>\n",
       "      <td>2021-04-01</td>\n",
       "      <td>64</td>\n",
       "      <td>g</td>\n",
       "      <td>drama</td>\n",
       "      <td>sally goodson is a devoted mother to her autis...</td>\n",
       "      <td>92</td>\n",
       "      <td>min</td>\n",
       "      <td>1</td>\n",
       "      <td>1</td>\n",
       "    </tr>\n",
       "    <tr>\n",
       "      <th>2</th>\n",
       "      <td>2</td>\n",
       "      <td>as100</td>\n",
       "      <td>3.609302</td>\n",
       "      <td>as100</td>\n",
       "      <td>movie</td>\n",
       "      <td>wilder napalm</td>\n",
       "      <td>glenn gordon caron</td>\n",
       "      <td>debra winger, dennis quaid, arliss howard, m. ...</td>\n",
       "      <td>sin dato</td>\n",
       "      <td>sin dato</td>\n",
       "      <td>63</td>\n",
       "      <td>pg-13</td>\n",
       "      <td>comedy, science fiction</td>\n",
       "      <td>two brothers with the secret power of starting...</td>\n",
       "      <td>109</td>\n",
       "      <td>min</td>\n",
       "      <td>1</td>\n",
       "      <td>2</td>\n",
       "    </tr>\n",
       "  </tbody>\n",
       "</table>\n",
       "</div>"
      ],
      "text/plain": [
       "   index movieId    rating     id   type                title  \\\n",
       "0      0     as1  3.467131    as1  movie  the grand seduction   \n",
       "1      1    as10  3.439571   as10  movie       david's mother   \n",
       "2      2   as100  3.609302  as100  movie        wilder napalm   \n",
       "\n",
       "                director                                               cast  \\\n",
       "0           don mckellar     brendan gleeson, taylor kitsch, gordon pinsent   \n",
       "1  robert allan ackerman    kirstie alley, sam waterston, stockard channing   \n",
       "2     glenn gordon caron  debra winger, dennis quaid, arliss howard, m. ...   \n",
       "\n",
       "         country  date_added  release_year rating_movies  \\\n",
       "0         canada  2021-03-30            84             g   \n",
       "1  united states  2021-04-01            64             g   \n",
       "2       sin dato    sin dato            63         pg-13   \n",
       "\n",
       "                 listed_in                                        description  \\\n",
       "0            comedy, drama  a small fishing village must procure a local d...   \n",
       "1                    drama  sally goodson is a devoted mother to her autis...   \n",
       "2  comedy, science fiction  two brothers with the secret power of starting...   \n",
       "\n",
       "   duration_int duration_type  platform  indice  \n",
       "0           113           min         1       0  \n",
       "1            92           min         1       1  \n",
       "2           109           min         1       2  "
      ]
     },
     "execution_count": 195,
     "metadata": {},
     "output_type": "execute_result"
    }
   ],
   "source": [
    "r_movies.head(3)"
   ]
  }
 ],
 "metadata": {
  "kernelspec": {
   "display_name": "venv",
   "language": "python",
   "name": "python3"
  },
  "language_info": {
   "codemirror_mode": {
    "name": "ipython",
    "version": 3
   },
   "file_extension": ".py",
   "mimetype": "text/x-python",
   "name": "python",
   "nbconvert_exporter": "python",
   "pygments_lexer": "ipython3",
   "version": "3.11.1"
  },
  "orig_nbformat": 4
 },
 "nbformat": 4,
 "nbformat_minor": 2
}
